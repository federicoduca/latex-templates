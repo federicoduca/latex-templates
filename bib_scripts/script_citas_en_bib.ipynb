{
 "cells": [
  {
   "cell_type": "code",
   "execution_count": 1,
   "metadata": {},
   "outputs": [],
   "source": [
    "import re\n",
    "import pprint\n",
    "import csv\n",
    "import pandas as pd\n",
    "from openpyxl import load_workbook"
   ]
  },
  {
   "cell_type": "markdown",
   "metadata": {},
   "source": [
    "### Obtener citas ID y titulo de un archivo bib\n",
    "\n",
    "Con este script, podemos encontrar todas los identificadores utilizados para citas en un archivo .bib y auxiliarmente el título del paper.\n",
    "Esto fue utilizado, junto con otro script, para mapear citas de LaTeX a citas hardcodeadas de un archivo word. "
   ]
  },
  {
   "cell_type": "code",
   "execution_count": 2,
   "metadata": {},
   "outputs": [],
   "source": [
    "def obtener_citas_con_titulo(archivo):\n",
    "    \"\"\"\n",
    "    Cada cita dentro de un archivo.bib consiste en (ejemplo):\n",
    "    \n",
    "    @article{pepe_rapid_2020, \n",
    "        title={Rapid ...}, \n",
    "        ...\n",
    "    }\n",
    "\n",
    "    Esto pasará en cualquier archivo, siempre y cuando la cita se haya agregado algo prolija.\n",
    "    En cualquier caso, recomiendo formatear el archivo para mayor robustez.\n",
    "    \"\"\"\n",
    "    citas = set()\n",
    "    with open(archivo, 'r') as f:\n",
    "        for linea in f:\n",
    "            linea = linea.strip()\n",
    "            if linea.startswith(\"@\"):\n",
    "                type, id = linea.split(\"{\")\n",
    "                # removemos la coma final\n",
    "                id = id[:-1]\n",
    "            elif \"title =\" in linea:\n",
    "                _, valor = linea.split(\"=\", 1)\n",
    "                # remover espacios adicionales\n",
    "                valor = valor.strip()\n",
    "                # remover coma final (para todos menos último campo)\n",
    "                if valor[-1] == ',':\n",
    "                    valor = valor[:-1]\n",
    "                # remover llaves\n",
    "                valor = valor[1:-1]\n",
    "            elif linea == \"}\":\n",
    "                citas.add((id, valor))\n",
    "                id, valor = None, None\n",
    "    return citas"
   ]
  },
  {
   "cell_type": "code",
   "execution_count": 4,
   "metadata": {},
   "outputs": [],
   "source": [
    "archivo_exportar = 'citas_en_bib.xlsx'\n",
    "archivo_de_citas = 'tesis.bib'\n",
    "\n",
    "datos = []\n",
    "\n",
    "citas = obtener_citas_con_titulo(archivo_de_citas)\n",
    "\n",
    "for id_cita, titulo in citas:\n",
    "    \"\"\"\n",
    "    Las citas exportadas por Zotero, generan una ID en (casi) siempre 'autor_titulo_año' donde \n",
    "    - autor: es el apellido del primer autor\n",
    "    - titulo: es la primer palabra 'significativa' (ej 'The rapid ...' toma 'rapid' ignorando 'the')\n",
    "    Hay excepciones en especial con autores que tienen mas de un paper el mismo año.\n",
    "    \"\"\"\n",
    "    elementos = id_cita.split('_')\n",
    "    autor = autor[0]\n",
    "    año = año[-1]\n",
    "    datos.append([id_cita, autor, año, titulo])\n",
    "\n",
    "# Convertir la lista de datos a un DataFrame de pandas\n",
    "df = pd.DataFrame(datos, columns=['id_cita', 'autor', 'año', 'titulo'])\n",
    "\n",
    "df.sort_values(by='id_cita',inplace=True)\n",
    "\n",
    "# Guardar el DataFrame en un archivo Excel\n",
    "df.to_excel(archivo_exportar, index=False)"
   ]
  }
 ],
 "metadata": {
  "kernelspec": {
   "display_name": "squadra",
   "language": "python",
   "name": "python3"
  },
  "language_info": {
   "codemirror_mode": {
    "name": "ipython",
    "version": 3
   },
   "file_extension": ".py",
   "mimetype": "text/x-python",
   "name": "python",
   "nbconvert_exporter": "python",
   "pygments_lexer": "ipython3",
   "version": "3.12.0"
  }
 },
 "nbformat": 4,
 "nbformat_minor": 2
}

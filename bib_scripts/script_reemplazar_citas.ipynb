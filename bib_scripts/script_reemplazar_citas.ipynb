{
    "cells": [
        {
            "cell_type": "code",
            "execution_count": 1,
            "metadata": {},
            "outputs": [],
            "source": [
                "import os\n",
                "import pandas as pd"
            ]
        },
        {
            "cell_type": "code",
            "execution_count": 5,
            "metadata": {},
            "outputs": [],
            "source": [
                "directorio_origen = '../caps/draft_3_pre_reemplazar_citas/'\n",
                "directorio_salida = '../caps/'\n",
                "archivo_tabla = 'citas_tabla_conversion.csv'\n",
                "archivo_resultados = 'citas_resultados_conversion.xlsx'\n",
                "\n",
                "# cargar conversion\n",
                "tabla_citas = pd.read_csv(archivo_tabla)\n",
                "\n",
                "tabla_citas['cita_en_bib_cite'] = tabla_citas['cita_en_bib'].apply(lambda x: f'\\\\citealt{{{x}}}')\n",
                "\n",
                "# Procesar cada archivo .tex y guardar los resultados en el directorio de salida\n",
                "for archivo in os.listdir(directorio_origen):\n",
                "    if archivo.endswith('.tex'):\n",
                "        # creamos columna auxiliar\n",
                "        tabla_citas[archivo] = None\n",
                "        archivo_origen = os.path.join(directorio_origen, archivo)\n",
                "        archivo_salida = os.path.join(directorio_salida, archivo)\n",
                "        # leemos\n",
                "        with open(archivo_origen, 'r', encoding='utf-8') as f:\n",
                "            contenido = f.read()\n",
                "        # modificamos\n",
                "        for index, row in tabla_citas.iterrows():\n",
                "            if row['cita_en_doc'] in contenido:\n",
                "                tabla_citas.loc[index, archivo] = \"X\"\n",
                "            contenido = contenido.replace(row['cita_en_doc'], row['cita_en_bib_cite'])\n",
                "\n",
                "        with open(archivo_salida, 'w', encoding='utf-8') as f:\n",
                "            f.write(contenido)\n",
                "\n",
                "# Guardar el DataFrame en un archivo Excel\n",
                "tabla_citas.to_excel(archivo_resultados, index=False)\n"
            ]
        }
    ],
    "metadata": {
        "kernelspec": {
            "display_name": "squadra",
            "language": "python",
            "name": "python3"
        },
        "language_info": {
            "codemirror_mode": {
                "name": "ipython",
                "version": 3
            },
            "file_extension": ".py",
            "mimetype": "text/x-python",
            "name": "python",
            "nbconvert_exporter": "python",
            "pygments_lexer": "ipython3",
            "version": "3.12.0"
        }
    },
    "nbformat": 4,
    "nbformat_minor": 2
}
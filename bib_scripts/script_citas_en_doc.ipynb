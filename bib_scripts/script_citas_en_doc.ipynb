{
 "cells": [
  {
   "cell_type": "code",
   "execution_count": null,
   "metadata": {},
   "outputs": [],
   "source": [
    "import re\n",
    "import pprint\n",
    "import csv\n",
    "import pandas as pd\n",
    "from openpyxl import load_workbook"
   ]
  },
  {
   "cell_type": "code",
   "execution_count": null,
   "metadata": {},
   "outputs": [],
   "source": [
    "def encontrar_texto_entre_parentesis(archivo, num_file, coincidencias):\n",
    "    with open(archivo, 'r') as f:\n",
    "        for linea in f:\n",
    "            for i, coincidencia in enumerate(texto_entre_parentesis(linea)):\n",
    "                texto = coincidencia.group(1)\n",
    "                # Reemplazar para dividir tmb por dos puntos\n",
    "                texto = texto.replace(':', ';')\n",
    "                # Dividir el texto por el punto y coma\n",
    "                partes_texto = texto.split(';')  \n",
    "                for j, parte in enumerate(partes_texto):\n",
    "                    parte = parte.strip()\n",
    "                    if contiene_cuatro_digitos_consecutivos(parte) and parte[0].isupper():\n",
    "                        if parte not in coincidencias:\n",
    "                            coincidencias[parte] = {\n",
    "                                \"cap_1\": \"\",\n",
    "                                \"cap_2\": \"\",\n",
    "                                \"cap_3\": \"\",\n",
    "                                \"cap_4\": \"\",\n",
    "                                \"orden\": f\"{i}-{j}\",\n",
    "                                \"url\": generar_url(parte)\n",
    "                        } \n",
    "                        coincidencias[parte][f\"cap_{num_file}\"] = \"x\" # -{num_linea}:{inicio_coincidencia}\")\n",
    "    return coincidencias\n",
    "\n",
    "def texto_entre_parentesis(linea):\n",
    "    return re.finditer(r'\\(([^)]+)\\)', linea)\n",
    "\n",
    "def contiene_cuatro_digitos_consecutivos(texto):\n",
    "    # La expresión regular busca al menos cuatro dígitos consecutivos\n",
    "    return bool(re.search(r'\\d{4,}', texto))\n",
    "\n",
    "def generar_url(cita):\n",
    "    cita = cita.replace(' ','+')\n",
    "    cita = cita.replace('&', 'y')\n",
    "    cita = cita.replace('\\\\','')\n",
    "    url = \"https://www.google.com/search?q=\" + cita\n",
    "    return url\n",
    "\n",
    "def remover_tildes(string):\n",
    "    tildes = {'á': 'a', 'é': 'e', 'í': 'i', 'ó': 'o', 'ú': 'u', 'Á': 'A', 'É': 'E', 'Í': 'I', 'Ó': 'O', 'Ú': 'U'}\n",
    "    for tilde, sin_tilde in tildes.items():\n",
    "        string = string.replace(tilde, sin_tilde)\n",
    "    return string"
   ]
  },
  {
   "cell_type": "code",
   "execution_count": null,
   "metadata": {},
   "outputs": [],
   "source": [
    "def exportar_citas(diccionario_citas, nombre_archivo, nombre_hoja):\n",
    "    \n",
    "    df_citas = pd.DataFrame.from_dict(diccionario_citas, orient='index')\n",
    "\n",
    "    # resetear el índice para que las citas sean una columna\n",
    "    df_citas.reset_index(inplace=True)\n",
    "    df_citas.rename(columns={'index': 'cita'}, inplace=True)\n",
    "    \n",
    "    # ordenamos alfabeticamente\n",
    "    df_citas.sort_values(by = 'cita', inplace=True)\n",
    "\n",
    "    df_citas['autor'] = df_citas['cita'].str.split(' ').str[0].str.lower().str.replace(',','').apply(remover_tildes)\n",
    "    df_citas['año'] = df_citas['cita'].str.split(',').str[-1]\n",
    "\n",
    "    # cargar el archivo Excel existente\n",
    "    try:\n",
    "        with pd.ExcelWriter(nombre_archivo, engine='openpyxl', mode='a', if_sheet_exists='replace') as writer:\n",
    "            df_citas.to_excel(writer, sheet_name=nombre_hoja, index=False)\n",
    "    except FileNotFoundError:\n",
    "        df_citas.to_excel(nombre_archivo, sheet_name=nombre_hoja, index=False)\n"
   ]
  },
  {
   "cell_type": "code",
   "execution_count": null,
   "metadata": {},
   "outputs": [],
   "source": [
    "archivos = ['../caps/01_introduccion.tex', '../caps/02_dti.tex', '../caps/03_sandi.tex']\n",
    "archivos =  [\n",
    "    # '../caps/citas_txt/Capítulo 1.txt',\n",
    "    '../caps/draft_3_pre_reemplazar_citas/01_introduccion.tex',\n",
    "    '../caps/draft_3_pre_reemplazar_citas/02_dti.tex', \n",
    "    '../caps/draft_3_pre_reemplazar_citas/03_sandi.tex', \n",
    "    '../caps/draft_3_pre_reemplazar_citas/04_discusion.tex'\n",
    "]\n",
    "archivo_exportar = 'citas_en_doc.xlsx'\n",
    "\n",
    "textos_entre_parentesis = {}\n",
    "for num_file, archivo in enumerate(archivos,  start=1):\n",
    "    textos_entre_parentesis = encontrar_texto_entre_parentesis(archivo, num_file, textos_entre_parentesis)\n",
    "\n",
    "exportar_citas(textos_entre_parentesis, archivo_exportar, nombre_hoja='export')"
   ]
  },
  {
   "cell_type": "markdown",
   "metadata": {},
   "source": [
    "# Check reemplazo citas"
   ]
  },
  {
   "cell_type": "code",
   "execution_count": null,
   "metadata": {},
   "outputs": [],
   "source": [
    "\n",
    "archivos =  [\n",
    "    '../caps/01_introduccion.tex',\n",
    "    '../caps/02_dti.tex', \n",
    "    '../caps/03_sandi.tex', \n",
    "    '../caps/04_discusion.tex'\n",
    "]\n",
    "archivo_exportar = 'citas_en_doc_final.xlsx'\n",
    "\n",
    "textos_entre_parentesis = {}\n",
    "for num_file, archivo in enumerate(archivos,  start=1):\n",
    "    textos_entre_parentesis = encontrar_texto_entre_parentesis(archivo, num_file, textos_entre_parentesis)\n",
    "\n",
    "textos_entre_parentesis"
   ]
  }
 ],
 "metadata": {
  "kernelspec": {
   "display_name": "squadra",
   "language": "python",
   "name": "python3"
  },
  "language_info": {
   "codemirror_mode": {
    "name": "ipython",
    "version": 3
   },
   "file_extension": ".py",
   "mimetype": "text/x-python",
   "name": "python",
   "nbconvert_exporter": "python",
   "pygments_lexer": "ipython3",
   "version": "3.12.0"
  }
 },
 "nbformat": 4,
 "nbformat_minor": 2
}
